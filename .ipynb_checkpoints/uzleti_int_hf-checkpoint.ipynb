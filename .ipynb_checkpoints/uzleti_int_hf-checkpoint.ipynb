{
 "cells": [
  {
   "cell_type": "markdown",
   "id": "c7030de7",
   "metadata": {},
   "source": [
    "# Setup"
   ]
  },
  {
   "cell_type": "code",
   "execution_count": 34,
   "id": "e983c449",
   "metadata": {},
   "outputs": [
    {
     "name": "stdout",
     "output_type": "stream",
     "text": [
      "Requirement already satisfied: pyodbc in c:\\python310\\lib\\site-packages (4.0.35)\n",
      "Note: you may need to restart the kernel to use updated packages.\n"
     ]
    },
    {
     "name": "stderr",
     "output_type": "stream",
     "text": [
      "WARNING: Ignoring invalid distribution -ip (c:\\python310\\lib\\site-packages)\n",
      "WARNING: Ignoring invalid distribution -ip (c:\\python310\\lib\\site-packages)\n",
      "WARNING: Ignoring invalid distribution -ip (c:\\python310\\lib\\site-packages)\n",
      "WARNING: Ignoring invalid distribution -ip (c:\\python310\\lib\\site-packages)\n",
      "WARNING: Ignoring invalid distribution -ip (c:\\python310\\lib\\site-packages)\n",
      "WARNING: Ignoring invalid distribution -ip (c:\\python310\\lib\\site-packages)\n",
      "\n",
      "[notice] A new release of pip available: 22.2.2 -> 22.3.1\n",
      "[notice] To update, run: python.exe -m pip install --upgrade pip\n"
     ]
    }
   ],
   "source": [
    "pip install pyodbc"
   ]
  },
  {
   "cell_type": "code",
   "execution_count": 35,
   "id": "b036f1e8",
   "metadata": {},
   "outputs": [
    {
     "name": "stdout",
     "output_type": "stream",
     "text": [
      "Requirement already satisfied: pandas in c:\\python310\\lib\\site-packages (1.5.1)\n",
      "Requirement already satisfied: pytz>=2020.1 in c:\\python310\\lib\\site-packages (from pandas) (2022.6)\n",
      "Requirement already satisfied: python-dateutil>=2.8.1 in c:\\python310\\lib\\site-packages (from pandas) (2.8.2)\n",
      "Requirement already satisfied: numpy>=1.21.0 in c:\\python310\\lib\\site-packages (from pandas) (1.23.4)\n",
      "Requirement already satisfied: six>=1.5 in c:\\python310\\lib\\site-packages (from python-dateutil>=2.8.1->pandas) (1.16.0)\n",
      "Note: you may need to restart the kernel to use updated packages.\n"
     ]
    },
    {
     "name": "stderr",
     "output_type": "stream",
     "text": [
      "WARNING: Ignoring invalid distribution -ip (c:\\python310\\lib\\site-packages)\n",
      "WARNING: Ignoring invalid distribution -ip (c:\\python310\\lib\\site-packages)\n",
      "WARNING: Ignoring invalid distribution -ip (c:\\python310\\lib\\site-packages)\n",
      "WARNING: Ignoring invalid distribution -ip (c:\\python310\\lib\\site-packages)\n",
      "WARNING: Ignoring invalid distribution -ip (c:\\python310\\lib\\site-packages)\n",
      "WARNING: Ignoring invalid distribution -ip (c:\\python310\\lib\\site-packages)\n",
      "\n",
      "[notice] A new release of pip available: 22.2.2 -> 22.3.1\n",
      "[notice] To update, run: python.exe -m pip install --upgrade pip\n"
     ]
    }
   ],
   "source": [
    "pip install pandas"
   ]
  },
  {
   "cell_type": "markdown",
   "id": "4fd3cfe2",
   "metadata": {},
   "source": [
    "# ETL"
   ]
  },
  {
   "cell_type": "code",
   "execution_count": 1,
   "id": "f077516b",
   "metadata": {},
   "outputs": [],
   "source": [
    "import pandas as pd"
   ]
  },
  {
   "cell_type": "code",
   "execution_count": 2,
   "id": "7c016113",
   "metadata": {},
   "outputs": [],
   "source": [
    "import pyodbc"
   ]
  },
  {
   "cell_type": "code",
   "execution_count": 3,
   "id": "d7eeaf8a",
   "metadata": {},
   "outputs": [],
   "source": [
    "games = pd.read_csv('games.csv', index_col=0)"
   ]
  },
  {
   "cell_type": "code",
   "execution_count": 4,
   "id": "4ac25453",
   "metadata": {},
   "outputs": [],
   "source": [
    "champion_info = pd.read_json('champion_info.json')"
   ]
  },
  {
   "cell_type": "code",
   "execution_count": 5,
   "id": "01576aa1",
   "metadata": {
    "scrolled": true
   },
   "outputs": [],
   "source": [
    "champion_info_2 = pd.read_json('champion_info_2.json')"
   ]
  },
  {
   "cell_type": "code",
   "execution_count": 6,
   "id": "a2663c91",
   "metadata": {},
   "outputs": [],
   "source": [
    "summoner_spell_info = pd.read_json('summoner_spell_info.json')"
   ]
  },
  {
   "cell_type": "markdown",
   "id": "1ed9b6e3",
   "metadata": {},
   "source": [
    "# using SQL Server 2022\n",
    "# to get the server name: type in console: \"SELECT @@SERVERNAME\" then \"go\""
   ]
  },
  {
   "cell_type": "code",
   "execution_count": 8,
   "id": "f9d5da8f",
   "metadata": {},
   "outputs": [],
   "source": [
    "server_name='DESKTOP-JSCKD1T\\SQLEXPRESS'"
   ]
  },
  {
   "cell_type": "code",
   "execution_count": 9,
   "id": "05aaf8d5",
   "metadata": {
    "scrolled": false
   },
   "outputs": [],
   "source": [
    "conn = pyodbc.connect(Trusted_Connection='yes', driver = '{SQL Server}',server = server_name , database = 'master')"
   ]
  },
  {
   "cell_type": "code",
   "execution_count": 10,
   "id": "4ba210b0",
   "metadata": {},
   "outputs": [],
   "source": [
    "champion_info_dict = {}\n",
    "for index, row in champion_info.iterrows():\n",
    "    champion_info_dict[row['data']['id']] = row['data']['name']\n",
    "for index, row in champion_info_2.iterrows():\n",
    "    champion_info_dict[row['data']['id']] = row['data']['name']\n",
    "    \n",
    "summoner_spell_info_dict = {}\n",
    "for index, row in summoner_spell_info.iterrows():\n",
    "    summoner_spell_info_dict[row['data']['id']] = row['data']['name']\n",
    "    "
   ]
  },
  {
   "cell_type": "code",
   "execution_count": 11,
   "id": "236a6aee",
   "metadata": {},
   "outputs": [],
   "source": [
    "def findChampionNameById(id):\n",
    "    if id in champion_info_dict:\n",
    "        return champion_info_dict[id]\n",
    "    return 'None'"
   ]
  },
  {
   "cell_type": "code",
   "execution_count": 12,
   "id": "44861de2",
   "metadata": {},
   "outputs": [],
   "source": [
    "def findSummonerSpellNameById(id):\n",
    "    if id in summoner_spell_info_dict:\n",
    "        return summoner_spell_info_dict[id]\n",
    "    return 'None'"
   ]
  },
  {
   "cell_type": "code",
   "execution_count": 13,
   "id": "7699c21d",
   "metadata": {},
   "outputs": [],
   "source": [
    "cursor = conn.cursor()"
   ]
  },
  {
   "cell_type": "code",
   "execution_count": 14,
   "id": "512ad098",
   "metadata": {},
   "outputs": [
    {
     "data": {
      "text/plain": [
       "<pyodbc.Cursor at 0x1f71f0b99b0>"
      ]
     },
     "execution_count": 14,
     "metadata": {},
     "output_type": "execute_result"
    }
   ],
   "source": [
    "cursor.execute('''\n",
    " drop table if exists Games;\n",
    "CREATE TABLE Games (\n",
    "        gameId int identity(1,1),\n",
    "        gameDuration  int NULL,\n",
    "        seasonId int NULL,\n",
    "\t\twinner int NULL,\n",
    "\t\tfirstBlood int NULL,\n",
    "\t\tfirstTower int NULL,\n",
    "\t\tfirstInhibitor int NULL,\n",
    "\t\tfirstBaron int NULL,\n",
    "\t\tfirstDragon int NULL,\n",
    "\t\tfirstRiftHerald int NULL,\n",
    "\t\tt1_champ1 text NULL,\n",
    "\t\tt1_champ1_sum1 text NULL,\n",
    "\t\tt1_champ1_sum2 text NULL,\n",
    "\t\tt1_champ2 text NULL,\n",
    "\t\tt1_champ2_sum1 text NULL,\n",
    "\t\tt1_champ2_sum2 text NULL,\n",
    "\t\tt1_champ3 text NULL,\n",
    "\t\tt1_champ3_sum1 text NULL,\n",
    "\t\tt1_champ3_sum2 text NULL,\n",
    "\t\tt1_champ4 text NULL,\n",
    "\t\tt1_champ4_sum1 text NULL,\n",
    "\t\tt1_champ4_sum2 text NULL,\n",
    "\t\tt1_champ5 text NULL,\n",
    "\t\tt1_champ5_sum1 text NULL,\n",
    "\t\tt1_champ5_sum2 text NULL,\n",
    "\t\tt1_towerKills int NULL,\n",
    "\t\tt1_inhibitorKills int NULL,\n",
    "\t\tt1_baronKills int NULL,\n",
    "\t\tt1_dragonKills int NULL,\n",
    "\t\tt1_riftHeraldKills int NULL,\n",
    "\t\tt1_ban1 text NULL,\n",
    "\t\tt1_ban2 text NULL,\n",
    "\t\tt1_ban3 text NULL,\n",
    "\t\tt1_ban4 text NULL,\n",
    "\t\tt1_ban5 text NULL,\n",
    "\t\tt2_champ1 text NULL,\n",
    "\t\tt2_champ1_sum1 text NULL,\n",
    "\t\tt2_champ1_sum2 text NULL,\n",
    "\t\tt2_champ2 text NULL,\n",
    "\t\tt2_champ2_sum1 text NULL,\n",
    "\t\tt2_champ2_sum2 text NULL,\n",
    "\t\tt2_champ3 text NULL,\n",
    "\t\tt2_champ3_sum1 text NULL,\n",
    "\t\tt2_champ3_sum2 text NULL,\n",
    "\t\tt2_champ4 text NULL,\n",
    "\t\tt2_champ4_sum1 text NULL,\n",
    "\t\tt2_champ4_sum2 text NULL,\n",
    "\t\tt2_champ5 text NULL,\n",
    "\t\tt2_champ5_sum1 text NULL,\n",
    "\t\tt2_champ5_sum2 text NULL,\n",
    "\t\tt2_towerKills int NULL,\n",
    "\t\tt2_inhibitorKills int NULL,\n",
    "\t\tt2_baronKills int NULL,\n",
    "\t\tt2_dragonKills int NULL,\n",
    "\t\tt2_riftHeraldKills int NULL,\n",
    "\t\tt2_ban1 text NULL,\n",
    "\t\tt2_ban2 text NULL,\n",
    "\t\tt2_ban3 text NULL,\n",
    "\t\tt2_ban4 text NULL,\n",
    "\t\tt2_ban5 text NULL,\n",
    "\n",
    " \n",
    ");\n",
    "               ''')"
   ]
  },
  {
   "cell_type": "code",
   "execution_count": 15,
   "id": "f734d7fa",
   "metadata": {},
   "outputs": [],
   "source": [
    "for index, row in games.iterrows():\n",
    "    cursor.execute(\n",
    "        '''\n",
    "        INSERT INTO Games (\n",
    "            gameDuration ,\n",
    "            seasonId,\n",
    "            winner,\n",
    "            firstBlood,\n",
    "            firstTower,\n",
    "            firstInhibitor,\n",
    "            firstBaron,\n",
    "            firstDragon,\n",
    "            firstRiftHerald,\n",
    "            t1_champ1,\n",
    "            t1_champ1_sum1,\n",
    "            t1_champ1_sum2,\n",
    "            t1_champ2,\n",
    "            t1_champ2_sum1,\n",
    "            t1_champ2_sum2,\n",
    "            t1_champ3,\n",
    "            t1_champ3_sum1,\n",
    "            t1_champ3_sum2,\n",
    "            t1_champ4,\n",
    "            t1_champ4_sum1,\n",
    "            t1_champ4_sum2,\n",
    "            t1_champ5,\n",
    "            t1_champ5_sum1,\n",
    "            t1_champ5_sum2,\n",
    "            t1_towerKills,\n",
    "            t1_inhibitorKills,\n",
    "            t1_baronKills,\n",
    "            t1_dragonKills,\n",
    "            t1_riftHeraldKills,\n",
    "            t1_ban1,\n",
    "            t1_ban2,\n",
    "            t1_ban3,\n",
    "            t1_ban4,\n",
    "            t1_ban5,\n",
    "            t2_champ1,\n",
    "            t2_champ1_sum1,\n",
    "            t2_champ1_sum2,\n",
    "            t2_champ2,\n",
    "            t2_champ2_sum1,\n",
    "            t2_champ2_sum2,\n",
    "            t2_champ3,\n",
    "            t2_champ3_sum1,\n",
    "            t2_champ3_sum2,\n",
    "            t2_champ4,\n",
    "            t2_champ4_sum1,\n",
    "            t2_champ4_sum2,\n",
    "            t2_champ5,\n",
    "            t2_champ5_sum1,\n",
    "            t2_champ5_sum2,\n",
    "            t2_towerKills,\n",
    "            t2_inhibitorKills,\n",
    "            t2_baronKills,\n",
    "            t2_dragonKills,\n",
    "            t2_riftHeraldKills,\n",
    "            t2_ban1,\n",
    "            t2_ban2,\n",
    "            t2_ban3,\n",
    "            t2_ban4,\n",
    "            t2_ban5\n",
    "        \n",
    "        ) values(?,?,?,?,?,?,?,?,?,?,?,?,?,?,?,?,?,?,?,?,?,?,?,?,?,?,?,?,?,?,?,?,?,?,?,?,?,?,?,?,?,?,?,?,?,?,?,?,?,?,?,?,?,?,?,?,?,?,?)\n",
    "        '''\n",
    "        , \n",
    "        row.gameDuration,\n",
    "        row.seasonId,\n",
    "\t\t\t\trow.winner,\n",
    "\t\trow.firstBlood,\n",
    "\t\trow.firstTower,\n",
    "\t\trow.firstInhibitor,\n",
    "\t\trow.firstBaron,\n",
    "\t\trow.firstDragon,\n",
    "\t\trow.firstRiftHerald,\n",
    "\t\tfindChampionNameById(row.t1_champ1id),\n",
    "\t\tfindSummonerSpellNameById(row.t1_champ1_sum1),\n",
    "\t\tfindSummonerSpellNameById(row.t1_champ1_sum2),\n",
    "\t\tfindChampionNameById(row.t1_champ2id),\n",
    "\t\tfindSummonerSpellNameById(row.t1_champ2_sum1),\n",
    "\t\tfindSummonerSpellNameById(row.t1_champ2_sum2),\n",
    "\t\tfindChampionNameById(row.t1_champ3id),\n",
    "\t\tfindSummonerSpellNameById(row.t1_champ3_sum1),\n",
    "\t\tfindSummonerSpellNameById(row.t1_champ3_sum2),\n",
    "\t\tfindChampionNameById(row.t1_champ4id),\n",
    "\t\tfindSummonerSpellNameById(row.t1_champ4_sum1),\n",
    "\t\tfindSummonerSpellNameById(row.t1_champ4_sum2),\n",
    "\t\tfindChampionNameById(row.t1_champ5id),\n",
    "\t\tfindSummonerSpellNameById(row.t1_champ5_sum1),\n",
    "\t\tfindSummonerSpellNameById(row.t1_champ5_sum2),\n",
    "\t\trow.t1_towerKills,\n",
    "\t\trow.t1_inhibitorKills,\n",
    "\t\trow.t1_baronKills,\n",
    "\t\trow.t1_dragonKills,\n",
    "\t\trow.t1_riftHeraldKills,\n",
    "\t\tfindChampionNameById(row.t1_ban1),\n",
    "\t\tfindChampionNameById(row.t1_ban2),\n",
    "\t\tfindChampionNameById(row.t1_ban3),\n",
    "\t\tfindChampionNameById(row.t1_ban4),\n",
    "\t\tfindChampionNameById(row.t1_ban5),\n",
    "\t\tfindChampionNameById(row.t2_champ1id),\n",
    "\t\tfindSummonerSpellNameById(row.t2_champ1_sum1),\n",
    "\t\tfindSummonerSpellNameById(row.t2_champ1_sum2),\n",
    "\t\tfindChampionNameById(row.t2_champ2id),\n",
    "\t\tfindSummonerSpellNameById(row.t2_champ2_sum1),\n",
    "\t\tfindSummonerSpellNameById(row.t2_champ2_sum2),\n",
    "\t\tfindChampionNameById(row.t2_champ3id),\n",
    "\t\tfindSummonerSpellNameById(row.t2_champ3_sum1),\n",
    "\t\tfindSummonerSpellNameById(row.t2_champ3_sum2),\n",
    "\t\tfindChampionNameById(row.t2_champ4id),\n",
    "\t\tfindSummonerSpellNameById(row.t2_champ4_sum1),\n",
    "\t\tfindSummonerSpellNameById(row.t2_champ4_sum2),\n",
    "\t\tfindChampionNameById(row.t2_champ5id),\n",
    "\t\tfindSummonerSpellNameById(row.t2_champ5_sum1),\n",
    "\t\tfindSummonerSpellNameById(row.t2_champ5_sum2),\n",
    "\t\trow.t2_towerKills,\n",
    "\t\trow.t2_inhibitorKills,\n",
    "\t\trow.t2_baronKills,\n",
    "\t\trow.t2_dragonKills,\n",
    "\t\trow.t2_riftHeraldKills,\n",
    "\t\tfindChampionNameById(row.t2_ban1),\n",
    "\t\tfindChampionNameById(row.t2_ban2),\n",
    "\t\tfindChampionNameById(row.t2_ban3),\n",
    "\t\tfindChampionNameById(row.t2_ban4),\n",
    "\t\tfindChampionNameById(row.t2_ban5),\n",
    "    \n",
    "    )"
   ]
  },
  {
   "cell_type": "code",
   "execution_count": 16,
   "id": "17ec4fcc",
   "metadata": {},
   "outputs": [],
   "source": [
    "conn.commit()"
   ]
  },
  {
   "cell_type": "markdown",
   "id": "4628512e",
   "metadata": {},
   "source": [
    "# visualizing data for decision making"
   ]
  },
  {
   "cell_type": "code",
   "execution_count": 4,
   "id": "d0b4da0a",
   "metadata": {
    "scrolled": false
   },
   "outputs": [
    {
     "name": "stdout",
     "output_type": "stream",
     "text": [
      "Requirement already satisfied: matplotlib in c:\\python310\\lib\\site-packages (3.6.2)\n",
      "Requirement already satisfied: python-dateutil>=2.7 in c:\\python310\\lib\\site-packages (from matplotlib) (2.8.2)\n",
      "Requirement already satisfied: pillow>=6.2.0 in c:\\python310\\lib\\site-packages (from matplotlib) (9.3.0)\n",
      "Requirement already satisfied: pyparsing>=2.2.1 in c:\\python310\\lib\\site-packages (from matplotlib) (3.0.9)\n",
      "Requirement already satisfied: numpy>=1.19 in c:\\python310\\lib\\site-packages (from matplotlib) (1.23.4)\n",
      "Requirement already satisfied: packaging>=20.0 in c:\\python310\\lib\\site-packages (from matplotlib) (21.3)\n",
      "Requirement already satisfied: contourpy>=1.0.1 in c:\\python310\\lib\\site-packages (from matplotlib) (1.0.6)\n",
      "Requirement already satisfied: cycler>=0.10 in c:\\python310\\lib\\site-packages (from matplotlib) (0.11.0)\n",
      "Requirement already satisfied: kiwisolver>=1.0.1 in c:\\python310\\lib\\site-packages (from matplotlib) (1.4.4)\n",
      "Requirement already satisfied: fonttools>=4.22.0 in c:\\python310\\lib\\site-packages (from matplotlib) (4.38.0)\n",
      "Requirement already satisfied: six>=1.5 in c:\\python310\\lib\\site-packages (from python-dateutil>=2.7->matplotlib) (1.16.0)\n",
      "Note: you may need to restart the kernel to use updated packages.\n"
     ]
    },
    {
     "name": "stderr",
     "output_type": "stream",
     "text": [
      "WARNING: Ignoring invalid distribution -ip (c:\\python310\\lib\\site-packages)\n",
      "WARNING: Ignoring invalid distribution -ip (c:\\python310\\lib\\site-packages)\n",
      "WARNING: Ignoring invalid distribution -ip (c:\\python310\\lib\\site-packages)\n",
      "WARNING: Ignoring invalid distribution -ip (c:\\python310\\lib\\site-packages)\n",
      "WARNING: Ignoring invalid distribution -ip (c:\\python310\\lib\\site-packages)\n",
      "WARNING: Ignoring invalid distribution -ip (c:\\python310\\lib\\site-packages)\n",
      "\n",
      "[notice] A new release of pip available: 22.2.2 -> 22.3.1\n",
      "[notice] To update, run: python.exe -m pip install --upgrade pip\n"
     ]
    }
   ],
   "source": [
    "pip install matplotlib"
   ]
  },
  {
   "cell_type": "code",
   "execution_count": 32,
   "id": "1c122a7f",
   "metadata": {},
   "outputs": [],
   "source": [
    "%matplotlib inline\n",
    "import matplotlib\n",
    "import numpy as np\n",
    "import pandas as pd\n",
    "import matplotlib.pyplot as plt\n",
    "import pyodbc\n",
    "server_name='DESKTOP-JSCKD1T\\SQLEXPRESS'\n",
    "conn = pyodbc.connect(Trusted_Connection='yes', driver = '{SQL Server}',server = server_name , database = 'master')"
   ]
  },
  {
   "cell_type": "code",
   "execution_count": 2,
   "id": "61532456",
   "metadata": {},
   "outputs": [],
   "source": [
    "sql = 'SELECT * FROM Games;'"
   ]
  },
  {
   "cell_type": "code",
   "execution_count": 3,
   "id": "b5048b13",
   "metadata": {
    "scrolled": false
   },
   "outputs": [
    {
     "name": "stderr",
     "output_type": "stream",
     "text": [
      "C:\\Users\\brobi\\AppData\\Local\\Temp\\ipykernel_13736\\3356294831.py:1: UserWarning: pandas only supports SQLAlchemy connectable (engine/connection) or database string URI or sqlite3 DBAPI2 connection. Other DBAPI2 objects are not tested. Please consider using SQLAlchemy.\n",
      "  gamesDW = pd.read_sql(sql, conn)\n"
     ]
    }
   ],
   "source": [
    "gamesDW = pd.read_sql(sql, conn)"
   ]
  },
  {
   "cell_type": "markdown",
   "id": "97f82b9c",
   "metadata": {},
   "source": [
    "# tegyük szebbé a grafikonokat"
   ]
  },
  {
   "cell_type": "code",
   "execution_count": 4,
   "id": "1a4ac726",
   "metadata": {},
   "outputs": [],
   "source": [
    "matplotlib.style.use('ggplot')\n",
    "matplotlib.pyplot.rcParams['figure.figsize'] = (15, 3)\n",
    "matplotlib.pyplot.rcParams['font.family'] = 'sans-serif'"
   ]
  },
  {
   "cell_type": "markdown",
   "id": "0ff20e2d",
   "metadata": {},
   "source": [
    "# which champions have the highest win ratio according to the data?"
   ]
  },
  {
   "cell_type": "code",
   "execution_count": 54,
   "id": "99d92e6c",
   "metadata": {},
   "outputs": [],
   "source": [
    "def addPlayerChampsToDict(playerChamp, winner):\n",
    "    for champ in gamesDW[playerChamp].where(gamesDW['winner'] == 1).dropna():\n",
    "        if champ in champToChampPlayedCountDict:\n",
    "            champToChampPlayedCountDict[champ] = champToChampPlayedCountDict[champ] + 1\n",
    "        else:\n",
    "            champToChampPlayedCountDict[champ] = 1\n",
    "\n",
    "team1PlayerChamps = ['t1_champ1', 't1_champ2', 't1_champ3', 't1_champ4', 't1_champ5']\n",
    "team2PlayerChamps = ['t2_champ1', 't2_champ2', 't2_champ3', 't2_champ4', 't2_champ5']\n",
    "champToChampPlayedCountDict = {}\n",
    "for playerChamp in team1PlayerChamps:\n",
    "    addPlayerChampsToDict(playerChamp, 1)\n",
    "for playerChamp in team2PlayerChamps:\n",
    "    addPlayerChampsToDict(playerChamp, 2)"
   ]
  },
  {
   "cell_type": "code",
   "execution_count": 60,
   "id": "54c71e36",
   "metadata": {
    "scrolled": true
   },
   "outputs": [],
   "source": [
    "champWinCountDF = pd.DataFrame(champToChampPlayedCountDict.items(), columns=['Name', 'WinCount'])"
   ]
  },
  {
   "cell_type": "code",
   "execution_count": 63,
   "id": "ed47f3d6",
   "metadata": {
    "scrolled": true
   },
   "outputs": [
    {
     "data": {
      "text/html": [
       "<div>\n",
       "<style scoped>\n",
       "    .dataframe tbody tr th:only-of-type {\n",
       "        vertical-align: middle;\n",
       "    }\n",
       "\n",
       "    .dataframe tbody tr th {\n",
       "        vertical-align: top;\n",
       "    }\n",
       "\n",
       "    .dataframe thead th {\n",
       "        text-align: right;\n",
       "    }\n",
       "</style>\n",
       "<table border=\"1\" class=\"dataframe\">\n",
       "  <thead>\n",
       "    <tr style=\"text-align: right;\">\n",
       "      <th></th>\n",
       "      <th>Name</th>\n",
       "      <th>WinCount</th>\n",
       "    </tr>\n",
       "  </thead>\n",
       "  <tbody>\n",
       "    <tr>\n",
       "      <th>0</th>\n",
       "      <td>Vladimir</td>\n",
       "      <td>1633</td>\n",
       "    </tr>\n",
       "    <tr>\n",
       "      <th>1</th>\n",
       "      <td>Draven</td>\n",
       "      <td>2509</td>\n",
       "    </tr>\n",
       "    <tr>\n",
       "      <th>2</th>\n",
       "      <td>Tristana</td>\n",
       "      <td>6627</td>\n",
       "    </tr>\n",
       "    <tr>\n",
       "      <th>3</th>\n",
       "      <td>Maokai</td>\n",
       "      <td>2102</td>\n",
       "    </tr>\n",
       "    <tr>\n",
       "      <th>4</th>\n",
       "      <td>Warwick</td>\n",
       "      <td>2929</td>\n",
       "    </tr>\n",
       "    <tr>\n",
       "      <th>...</th>\n",
       "      <td>...</td>\n",
       "      <td>...</td>\n",
       "    </tr>\n",
       "    <tr>\n",
       "      <th>133</th>\n",
       "      <td>Renekton</td>\n",
       "      <td>1905</td>\n",
       "    </tr>\n",
       "    <tr>\n",
       "      <th>134</th>\n",
       "      <td>Nunu</td>\n",
       "      <td>662</td>\n",
       "    </tr>\n",
       "    <tr>\n",
       "      <th>135</th>\n",
       "      <td>Ivern</td>\n",
       "      <td>539</td>\n",
       "    </tr>\n",
       "    <tr>\n",
       "      <th>136</th>\n",
       "      <td>Udyr</td>\n",
       "      <td>562</td>\n",
       "    </tr>\n",
       "    <tr>\n",
       "      <th>137</th>\n",
       "      <td>Aurelion Sol</td>\n",
       "      <td>404</td>\n",
       "    </tr>\n",
       "  </tbody>\n",
       "</table>\n",
       "<p>138 rows × 2 columns</p>\n",
       "</div>"
      ],
      "text/plain": [
       "             Name  WinCount\n",
       "0        Vladimir      1633\n",
       "1          Draven      2509\n",
       "2        Tristana      6627\n",
       "3          Maokai      2102\n",
       "4         Warwick      2929\n",
       "..            ...       ...\n",
       "133      Renekton      1905\n",
       "134          Nunu       662\n",
       "135         Ivern       539\n",
       "136          Udyr       562\n",
       "137  Aurelion Sol       404\n",
       "\n",
       "[138 rows x 2 columns]"
      ]
     },
     "execution_count": 63,
     "metadata": {},
     "output_type": "execute_result"
    }
   ],
   "source": [
    "champWinCountDF"
   ]
  },
  {
   "cell_type": "markdown",
   "id": "1f36577b",
   "metadata": {},
   "source": [
    "# TOP 5 with most wins"
   ]
  },
  {
   "cell_type": "code",
   "execution_count": 70,
   "id": "f7ae4ef3",
   "metadata": {},
   "outputs": [],
   "source": [
    "top5LowestWinCount = champWinCountDF.sort_values(by=['WinCount']).head(5)"
   ]
  },
  {
   "cell_type": "code",
   "execution_count": 71,
   "id": "e639332f",
   "metadata": {},
   "outputs": [
    {
     "data": {
      "text/html": [
       "<div>\n",
       "<style scoped>\n",
       "    .dataframe tbody tr th:only-of-type {\n",
       "        vertical-align: middle;\n",
       "    }\n",
       "\n",
       "    .dataframe tbody tr th {\n",
       "        vertical-align: top;\n",
       "    }\n",
       "\n",
       "    .dataframe thead th {\n",
       "        text-align: right;\n",
       "    }\n",
       "</style>\n",
       "<table border=\"1\" class=\"dataframe\">\n",
       "  <thead>\n",
       "    <tr style=\"text-align: right;\">\n",
       "      <th></th>\n",
       "      <th>Name</th>\n",
       "      <th>WinCount</th>\n",
       "    </tr>\n",
       "  </thead>\n",
       "  <tbody>\n",
       "    <tr>\n",
       "      <th>123</th>\n",
       "      <td>Skarner</td>\n",
       "      <td>281</td>\n",
       "    </tr>\n",
       "    <tr>\n",
       "      <th>55</th>\n",
       "      <td>Aatrox</td>\n",
       "      <td>386</td>\n",
       "    </tr>\n",
       "    <tr>\n",
       "      <th>137</th>\n",
       "      <td>Aurelion Sol</td>\n",
       "      <td>404</td>\n",
       "    </tr>\n",
       "    <tr>\n",
       "      <th>120</th>\n",
       "      <td>Karthus</td>\n",
       "      <td>497</td>\n",
       "    </tr>\n",
       "    <tr>\n",
       "      <th>102</th>\n",
       "      <td>Ryze</td>\n",
       "      <td>505</td>\n",
       "    </tr>\n",
       "  </tbody>\n",
       "</table>\n",
       "</div>"
      ],
      "text/plain": [
       "             Name  WinCount\n",
       "123       Skarner       281\n",
       "55         Aatrox       386\n",
       "137  Aurelion Sol       404\n",
       "120       Karthus       497\n",
       "102          Ryze       505"
      ]
     },
     "execution_count": 71,
     "metadata": {},
     "output_type": "execute_result"
    }
   ],
   "source": [
    "top5LowestWinCount"
   ]
  },
  {
   "cell_type": "markdown",
   "id": "2ec355c4",
   "metadata": {},
   "source": [
    "# TOP 5 with least wins"
   ]
  },
  {
   "cell_type": "code",
   "execution_count": 73,
   "id": "bbd9f823",
   "metadata": {},
   "outputs": [],
   "source": [
    "top5HighestWinCount = champWinCountDF.sort_values(by=['WinCount'], ascending=False).head(5)"
   ]
  },
  {
   "cell_type": "code",
   "execution_count": 74,
   "id": "0c8d0fc1",
   "metadata": {
    "scrolled": true
   },
   "outputs": [
    {
     "data": {
      "text/html": [
       "<div>\n",
       "<style scoped>\n",
       "    .dataframe tbody tr th:only-of-type {\n",
       "        vertical-align: middle;\n",
       "    }\n",
       "\n",
       "    .dataframe tbody tr th {\n",
       "        vertical-align: top;\n",
       "    }\n",
       "\n",
       "    .dataframe thead th {\n",
       "        text-align: right;\n",
       "    }\n",
       "</style>\n",
       "<table border=\"1\" class=\"dataframe\">\n",
       "  <thead>\n",
       "    <tr style=\"text-align: right;\">\n",
       "      <th></th>\n",
       "      <th>Name</th>\n",
       "      <th>WinCount</th>\n",
       "    </tr>\n",
       "  </thead>\n",
       "  <tbody>\n",
       "    <tr>\n",
       "      <th>2</th>\n",
       "      <td>Tristana</td>\n",
       "      <td>6627</td>\n",
       "    </tr>\n",
       "    <tr>\n",
       "      <th>14</th>\n",
       "      <td>Thresh</td>\n",
       "      <td>6550</td>\n",
       "    </tr>\n",
       "    <tr>\n",
       "      <th>17</th>\n",
       "      <td>Vayne</td>\n",
       "      <td>5393</td>\n",
       "    </tr>\n",
       "    <tr>\n",
       "      <th>32</th>\n",
       "      <td>Kayn</td>\n",
       "      <td>5106</td>\n",
       "    </tr>\n",
       "    <tr>\n",
       "      <th>49</th>\n",
       "      <td>Lee Sin</td>\n",
       "      <td>4681</td>\n",
       "    </tr>\n",
       "  </tbody>\n",
       "</table>\n",
       "</div>"
      ],
      "text/plain": [
       "        Name  WinCount\n",
       "2   Tristana      6627\n",
       "14    Thresh      6550\n",
       "17     Vayne      5393\n",
       "32      Kayn      5106\n",
       "49   Lee Sin      4681"
      ]
     },
     "execution_count": 74,
     "metadata": {},
     "output_type": "execute_result"
    }
   ],
   "source": [
    "top5HighestWinCount"
   ]
  },
  {
   "cell_type": "markdown",
   "id": "3d65e946",
   "metadata": {},
   "source": [
    "# a winCount eloszlást ábrázolhatjuk oszlopdiagramos ábrán, aminek most a célja az eloszlást megfigyelése: látható, hogy nagy kulönbség van a legkisebb és legnagyobb között"
   ]
  },
  {
   "cell_type": "code",
   "execution_count": 237,
   "id": "806e3a8c",
   "metadata": {},
   "outputs": [
    {
     "data": {
      "text/plain": [
       "<AxesSubplot: >"
      ]
     },
     "execution_count": 237,
     "metadata": {},
     "output_type": "execute_result"
    },
    {
     "data": {
      "image/png": "[encoded data removed]",
      "text/plain": [
       "<Figure size 1500x300 with 1 Axes>"
      ]
     },
     "metadata": {},
     "output_type": "display_data"
    }
   ],
   "source": [
    "champWinCountDF.sort_values(by=['WinCount'], ascending=False).plot(kind='bar')"
   ]
  },
  {
   "cell_type": "markdown",
   "id": "69f76527",
   "metadata": {},
   "source": [
    "# előző feladat eredménye alapján nézzük meg kiket counterel-nek leginkább a legtöbb meccset nyert hősök"
   ]
  },
  {
   "cell_type": "code",
   "execution_count": 173,
   "id": "3a60173a",
   "metadata": {
    "scrolled": true
   },
   "outputs": [],
   "source": [
    "#for champ in top5HighestWinCount['Name']:\n",
    "def getDefeatedEnemiesCountDictForChampionForTeam(championName, winnerTeam):\n",
    "    defeatedEnemiesCountDict = {}\n",
    "    team2Champs = ['t2_champ1', 't2_champ2', 't2_champ3', 't2_champ4', 't2_champ5']\n",
    "    team1Champs = ['t1_champ1', 't1_champ2', 't1_champ3', 't1_champ4', 't1_champ5']\n",
    "    if winnerTeam == 1:\n",
    "        enemyTeam = team2Champs\n",
    "        allyTeam = team1Champs\n",
    "    else:\n",
    "        enemyTeam = team1Champs\n",
    "        allyTeam = team2Champs\n",
    "    enemiesWhereChampWon = gamesDW[enemyTeam].where(((gamesDW[allyTeam[0]] == championName) | (gamesDW[allyTeam[1]] == championName) | (gamesDW[allyTeam[2]] == championName) | (gamesDW[allyTeam[3]] == championName) | (gamesDW[allyTeam[4]] == championName)) & (gamesDW['winner'] == winnerTeam)).dropna()\n",
    "    for index, row in enemiesWhereChampWon.iterrows():\n",
    "        for enemyColumn in enemyTeam:\n",
    "            if row[enemyColumn] in defeatedEnemiesCountDict:\n",
    "                defeatedEnemiesCountDict[row[enemyColumn]] = defeatedEnemiesCountDict[row[enemyColumn]] + 1\n",
    "            else:\n",
    "                defeatedEnemiesCountDict[row[enemyColumn]] = 1\n",
    "    return defeatedEnemiesCountDict\n",
    "\n",
    "def getDefeatedEnemiesCountDictForChampion(championName):\n",
    "    resultDict = getDefeatedEnemiesCountDictForChampionForTeam(championName, 1)\n",
    "    result2 = getDefeatedEnemiesCountDictForChampionForTeam(championName, 2)\n",
    "    for champ in result2:\n",
    "        if champ in resultDict:\n",
    "            resultDict[champ] = resultDict[champ] + result2[champ]\n",
    "        else:\n",
    "            resultDict[champ] = 1\n",
    "    return resultDict\n",
    "            \n",
    "\n",
    "#defeatedEnemiesCountDict = getDefeatedEnemiesCountDictForChampion('Tristana')\n",
    "\n"
   ]
  },
  {
   "cell_type": "markdown",
   "id": "073aedfd",
   "metadata": {},
   "source": [
    "# now that we have our helper methods, we can check for the highest win rate champion\n",
    "# for Tristana the results are the following:"
   ]
  },
  {
   "cell_type": "code",
   "execution_count": 177,
   "id": "ceaf9b75",
   "metadata": {},
   "outputs": [],
   "source": [
    "defeatedByTristana = pd.DataFrame(getDefeatedEnemiesCountDictForChampion('Tristana').items(), columns=['Name', 'WinCount'])"
   ]
  },
  {
   "cell_type": "markdown",
   "id": "783d6a97",
   "metadata": {},
   "source": [
    "# TOP 5 defeated by team with a Tristana in it"
   ]
  },
  {
   "cell_type": "code",
   "execution_count": 181,
   "id": "69f66665",
   "metadata": {
    "scrolled": true
   },
   "outputs": [
    {
     "data": {
      "text/html": [
       "<div>\n",
       "<style scoped>\n",
       "    .dataframe tbody tr th:only-of-type {\n",
       "        vertical-align: middle;\n",
       "    }\n",
       "\n",
       "    .dataframe tbody tr th {\n",
       "        vertical-align: top;\n",
       "    }\n",
       "\n",
       "    .dataframe thead th {\n",
       "        text-align: right;\n",
       "    }\n",
       "</style>\n",
       "<table border=\"1\" class=\"dataframe\">\n",
       "  <thead>\n",
       "    <tr style=\"text-align: right;\">\n",
       "      <th></th>\n",
       "      <th>Name</th>\n",
       "      <th>WinCount</th>\n",
       "    </tr>\n",
       "  </thead>\n",
       "  <tbody>\n",
       "    <tr>\n",
       "      <th>1</th>\n",
       "      <td>Thresh</td>\n",
       "      <td>920</td>\n",
       "    </tr>\n",
       "    <tr>\n",
       "      <th>62</th>\n",
       "      <td>Vayne</td>\n",
       "      <td>809</td>\n",
       "    </tr>\n",
       "    <tr>\n",
       "      <th>42</th>\n",
       "      <td>Kayn</td>\n",
       "      <td>696</td>\n",
       "    </tr>\n",
       "    <tr>\n",
       "      <th>38</th>\n",
       "      <td>Twitch</td>\n",
       "      <td>663</td>\n",
       "    </tr>\n",
       "    <tr>\n",
       "      <th>11</th>\n",
       "      <td>Lee Sin</td>\n",
       "      <td>633</td>\n",
       "    </tr>\n",
       "  </tbody>\n",
       "</table>\n",
       "</div>"
      ],
      "text/plain": [
       "       Name  WinCount\n",
       "1    Thresh       920\n",
       "62    Vayne       809\n",
       "42     Kayn       696\n",
       "38   Twitch       663\n",
       "11  Lee Sin       633"
      ]
     },
     "execution_count": 181,
     "metadata": {},
     "output_type": "execute_result"
    }
   ],
   "source": [
    "defeatedByTristana.sort_values(by=['WinCount'], ascending=False).head(5)"
   ]
  },
  {
   "cell_type": "markdown",
   "id": "9a50c50f",
   "metadata": {},
   "source": [
    "# TOP 5 defeated least times by Tristana"
   ]
  },
  {
   "cell_type": "code",
   "execution_count": 182,
   "id": "14a1e851",
   "metadata": {
    "scrolled": true
   },
   "outputs": [
    {
     "data": {
      "text/html": [
       "<div>\n",
       "<style scoped>\n",
       "    .dataframe tbody tr th:only-of-type {\n",
       "        vertical-align: middle;\n",
       "    }\n",
       "\n",
       "    .dataframe tbody tr th {\n",
       "        vertical-align: top;\n",
       "    }\n",
       "\n",
       "    .dataframe thead th {\n",
       "        text-align: right;\n",
       "    }\n",
       "</style>\n",
       "<table border=\"1\" class=\"dataframe\">\n",
       "  <thead>\n",
       "    <tr style=\"text-align: right;\">\n",
       "      <th></th>\n",
       "      <th>Name</th>\n",
       "      <th>WinCount</th>\n",
       "    </tr>\n",
       "  </thead>\n",
       "  <tbody>\n",
       "    <tr>\n",
       "      <th>136</th>\n",
       "      <td>Aatrox</td>\n",
       "      <td>38</td>\n",
       "    </tr>\n",
       "    <tr>\n",
       "      <th>135</th>\n",
       "      <td>Skarner</td>\n",
       "      <td>46</td>\n",
       "    </tr>\n",
       "    <tr>\n",
       "      <th>79</th>\n",
       "      <td>Ivern</td>\n",
       "      <td>58</td>\n",
       "    </tr>\n",
       "    <tr>\n",
       "      <th>128</th>\n",
       "      <td>Aurelion Sol</td>\n",
       "      <td>59</td>\n",
       "    </tr>\n",
       "    <tr>\n",
       "      <th>125</th>\n",
       "      <td>Karthus</td>\n",
       "      <td>62</td>\n",
       "    </tr>\n",
       "  </tbody>\n",
       "</table>\n",
       "</div>"
      ],
      "text/plain": [
       "             Name  WinCount\n",
       "136        Aatrox        38\n",
       "135       Skarner        46\n",
       "79          Ivern        58\n",
       "128  Aurelion Sol        59\n",
       "125       Karthus        62"
      ]
     },
     "execution_count": 182,
     "metadata": {},
     "output_type": "execute_result"
    }
   ],
   "source": [
    "defeatedByTristana.sort_values(by=['WinCount']).head(5)"
   ]
  },
  {
   "cell_type": "markdown",
   "id": "3c4374ee",
   "metadata": {},
   "source": [
    "# a Tristana által legyőzött különböző hősök eloszlását ábrázolhatjuk oszlopdiagramos ábrán, aminek most a célja az eloszlást megfigyelése: látható, hogy nagy kulönbség van a legkisebb és legnagyobb között"
   ]
  },
  {
   "cell_type": "code",
   "execution_count": 239,
   "id": "9fbb0208",
   "metadata": {},
   "outputs": [
    {
     "data": {
      "text/plain": [
       "<AxesSubplot: >"
      ]
     },
     "execution_count": 239,
     "metadata": {},
     "output_type": "execute_result"
    },
    {
     "data": {
      "image/png": "[encoded data removed]",
      "text/plain": [
       "<Figure size 1500x300 with 1 Axes>"
      ]
     },
     "metadata": {},
     "output_type": "display_data"
    }
   ],
   "source": [
    "defeatedByTristana.sort_values(by=['WinCount'], ascending=False).plot(kind='bar')"
   ]
  },
  {
   "cell_type": "markdown",
   "id": "97c079e0",
   "metadata": {},
   "source": [
    "# so if we want to nerf Tristana we could check relations between her and Thresh (or Vayne, or Kayn...) \n",
    "# and maybe give a stat boost to those champions"
   ]
  },
  {
   "cell_type": "markdown",
   "id": "f1affc0d",
   "metadata": {},
   "source": [
    "# lets see which champions are banned most often"
   ]
  },
  {
   "cell_type": "code",
   "execution_count": 185,
   "id": "0cd311e6",
   "metadata": {},
   "outputs": [],
   "source": [
    "def getBannedChampionsCountDict():\n",
    "    bannedChampionsCountDict = {}\n",
    "    banColumns = ['t1_ban1', 't1_ban2', 't1_ban3', 't1_ban4', 't1_ban5', 't2_ban1', 't2_ban2', 't2_ban3', 't2_ban4', 't2_ban5']\n",
    "    championsBanned = gamesDW[banColumns]\n",
    "    for index, row in championsBanned.iterrows():\n",
    "        for banColumn in banColumns:\n",
    "            if row[banColumn] in bannedChampionsCountDict:\n",
    "                 bannedChampionsCountDict[row[banColumn]] = bannedChampionsCountDict[row[banColumn]] + 1\n",
    "            else:\n",
    "                bannedChampionsCountDict[row[banColumn]] = 1\n",
    "    return bannedChampionsCountDict\n",
    "\n",
    "bannedChamps = pd.DataFrame(getBannedChampionsCountDict().items(), columns=['Name', 'BanCount'])"
   ]
  },
  {
   "cell_type": "markdown",
   "id": "697abfc8",
   "metadata": {},
   "source": [
    "# Top 5 most banned"
   ]
  },
  {
   "cell_type": "code",
   "execution_count": 186,
   "id": "b6cf051e",
   "metadata": {},
   "outputs": [
    {
     "data": {
      "text/html": [
       "<div>\n",
       "<style scoped>\n",
       "    .dataframe tbody tr th:only-of-type {\n",
       "        vertical-align: middle;\n",
       "    }\n",
       "\n",
       "    .dataframe tbody tr th {\n",
       "        vertical-align: top;\n",
       "    }\n",
       "\n",
       "    .dataframe thead th {\n",
       "        text-align: right;\n",
       "    }\n",
       "</style>\n",
       "<table border=\"1\" class=\"dataframe\">\n",
       "  <thead>\n",
       "    <tr style=\"text-align: right;\">\n",
       "      <th></th>\n",
       "      <th>Name</th>\n",
       "      <th>BanCount</th>\n",
       "    </tr>\n",
       "  </thead>\n",
       "  <tbody>\n",
       "    <tr>\n",
       "      <th>20</th>\n",
       "      <td>Yasuo</td>\n",
       "      <td>33015</td>\n",
       "    </tr>\n",
       "    <tr>\n",
       "      <th>15</th>\n",
       "      <td>Zed</td>\n",
       "      <td>25393</td>\n",
       "    </tr>\n",
       "    <tr>\n",
       "      <th>25</th>\n",
       "      <td>Cho'Gath</td>\n",
       "      <td>25175</td>\n",
       "    </tr>\n",
       "    <tr>\n",
       "      <th>10</th>\n",
       "      <td>Darius</td>\n",
       "      <td>22870</td>\n",
       "    </tr>\n",
       "    <tr>\n",
       "      <th>1</th>\n",
       "      <td>Janna</td>\n",
       "      <td>21390</td>\n",
       "    </tr>\n",
       "  </tbody>\n",
       "</table>\n",
       "</div>"
      ],
      "text/plain": [
       "        Name  BanCount\n",
       "20     Yasuo     33015\n",
       "15       Zed     25393\n",
       "25  Cho'Gath     25175\n",
       "10    Darius     22870\n",
       "1      Janna     21390"
      ]
     },
     "execution_count": 186,
     "metadata": {},
     "output_type": "execute_result"
    }
   ],
   "source": [
    "bannedChamps.sort_values(by=['BanCount'], ascending=False).head(5)"
   ]
  },
  {
   "cell_type": "markdown",
   "id": "09cb9df6",
   "metadata": {},
   "source": [
    "# Top 5 least banned"
   ]
  },
  {
   "cell_type": "code",
   "execution_count": 243,
   "id": "e65fbf1d",
   "metadata": {
    "scrolled": true
   },
   "outputs": [
    {
     "data": {
      "text/html": [
       "<div>\n",
       "<style scoped>\n",
       "    .dataframe tbody tr th:only-of-type {\n",
       "        vertical-align: middle;\n",
       "    }\n",
       "\n",
       "    .dataframe tbody tr th {\n",
       "        vertical-align: top;\n",
       "    }\n",
       "\n",
       "    .dataframe thead th {\n",
       "        text-align: right;\n",
       "    }\n",
       "</style>\n",
       "<table border=\"1\" class=\"dataframe\">\n",
       "  <thead>\n",
       "    <tr style=\"text-align: right;\">\n",
       "      <th></th>\n",
       "      <th>Name</th>\n",
       "      <th>BanCount</th>\n",
       "    </tr>\n",
       "  </thead>\n",
       "  <tbody>\n",
       "    <tr>\n",
       "      <th>73</th>\n",
       "      <td>Skarner</td>\n",
       "      <td>70</td>\n",
       "    </tr>\n",
       "    <tr>\n",
       "      <th>138</th>\n",
       "      <td>Udyr</td>\n",
       "      <td>90</td>\n",
       "    </tr>\n",
       "    <tr>\n",
       "      <th>131</th>\n",
       "      <td>Ryze</td>\n",
       "      <td>96</td>\n",
       "    </tr>\n",
       "    <tr>\n",
       "      <th>120</th>\n",
       "      <td>Sion</td>\n",
       "      <td>117</td>\n",
       "    </tr>\n",
       "    <tr>\n",
       "      <th>124</th>\n",
       "      <td>Viktor</td>\n",
       "      <td>128</td>\n",
       "    </tr>\n",
       "  </tbody>\n",
       "</table>\n",
       "</div>"
      ],
      "text/plain": [
       "        Name  BanCount\n",
       "73   Skarner        70\n",
       "138     Udyr        90\n",
       "131     Ryze        96\n",
       "120     Sion       117\n",
       "124   Viktor       128"
      ]
     },
     "execution_count": 243,
     "metadata": {},
     "output_type": "execute_result"
    }
   ],
   "source": [
    "bannedChamps.sort_values(by=['BanCount']).head(5)"
   ]
  },
  {
   "cell_type": "markdown",
   "id": "19f96201",
   "metadata": {},
   "source": [
    "# We can see for example that Skarner having a low win-rate causes him to not be banned so much"
   ]
  },
  {
   "cell_type": "markdown",
   "id": "3a2162c7",
   "metadata": {},
   "source": [
    "# a legtöbbet bannoltak eloszlását ábrázolhatjuk oszlopdiagramos ábrán, aminek most a célja az eloszlást megfigyelése\n",
    "# az első két oszlopdiagramos ábrához képest ezen van a legnagyobb eltérés és ez a legkevésbé egyenletesen növekvő"
   ]
  },
  {
   "cell_type": "code",
   "execution_count": 240,
   "id": "b3b8f0eb",
   "metadata": {},
   "outputs": [
    {
     "data": {
      "text/plain": [
       "<AxesSubplot: >"
      ]
     },
     "execution_count": 240,
     "metadata": {},
     "output_type": "execute_result"
    },
    {
     "data": {
      "image/png": "[encoded data removed]",
      "text/plain": [
       "<Figure size 1500x300 with 1 Axes>"
      ]
     },
     "metadata": {},
     "output_type": "display_data"
    }
   ],
   "source": [
    "bannedChamps.sort_values(by=['BanCount'], ascending=False).plot(kind='bar')"
   ]
  },
  {
   "cell_type": "markdown",
   "id": "0dfcf468",
   "metadata": {},
   "source": [
    "# How relevant are dragons? "
   ]
  },
  {
   "cell_type": "code",
   "execution_count": 192,
   "id": "0fb3b280",
   "metadata": {},
   "outputs": [
    {
     "data": {
      "text/plain": [
       "count    16937\n",
       "Name: winner, dtype: int64"
      ]
     },
     "execution_count": 192,
     "metadata": {},
     "output_type": "execute_result"
    }
   ],
   "source": [
    "mygames = gamesDW[['winner']].where((gamesDW['firstDragon'] == 1) & (gamesDW['winner'] == 1)).agg(['count'])"
   ]
  },
  {
   "cell_type": "code",
   "execution_count": 230,
   "id": "ba6b82f9",
   "metadata": {},
   "outputs": [],
   "source": [
    "def getDragonKillsToVictoriesDictForTeam(team):\n",
    "    resultDict = {}\n",
    "    if team == 1:\n",
    "        enemyTeam = 2\n",
    "        allyTeamDragonKillColumn = 't1_dragonKills'\n",
    "        enemyTeamDragonKillColumn = 't2_dragonKills'\n",
    "    else:\n",
    "        enemyTeam = 1\n",
    "        allyTeamDragonKillColumn = 't2_dragonKills'\n",
    "        enemyTeamDragonKillColumn = 't1_dragonKills'\n",
    "    # no first dragon + less dragon kills\n",
    "    resultDict['No_First_dragon_and_less_dragon_kills'] = gamesDW[['winner']].where((gamesDW['firstDragon'] == enemyTeam) & (gamesDW[allyTeamDragonKillColumn] < gamesDW[enemyTeamDragonKillColumn]) & (gamesDW['winner'] == team)).agg(['count'])['winner']['count']\n",
    "    # no first dragon + more or equal dragon kills\n",
    "    resultDict['No_First_dragon_and_more_or_equal_dragon_kills'] = gamesDW[['winner']].where((gamesDW['firstDragon'] == enemyTeam) & (gamesDW[allyTeamDragonKillColumn] >= gamesDW[enemyTeamDragonKillColumn]) & (gamesDW['winner'] == team)).agg(['count'])['winner']['count']\n",
    "    # first dragon + less dragon kills\n",
    "    resultDict['First_dragon_and_less_dragon_kills'] = gamesDW[['winner']].where((gamesDW['firstDragon'] == team) & (gamesDW[allyTeamDragonKillColumn] < gamesDW[enemyTeamDragonKillColumn]) & (gamesDW['winner'] == team)).agg(['count'])['winner']['count']\n",
    "    # first dragon + more or equal dragon kills\n",
    "    resultDict['First_dragon_and_more_or_equal_dragon_kills'] = gamesDW[['winner']].where((gamesDW['firstDragon'] == team) & (gamesDW[allyTeamDragonKillColumn] >= gamesDW[enemyTeamDragonKillColumn]) & (gamesDW['winner'] == team)).agg(['count'])['winner']['count']\n",
    "    return resultDict\n",
    "\n",
    "def getDragonKillsToVictoriesDict():\n",
    "    dict1 = getDragonKillsToVictoriesDictForTeam(1)\n",
    "    dict2 = getDragonKillsToVictoriesDictForTeam(2)\n",
    "    for key in dict2:\n",
    "        if key in dict1:\n",
    "            dict1[key] = dict1[key] + dict2[key]\n",
    "        else:\n",
    "            dict1[key] = 1\n",
    "    return dict1\n",
    "    \n"
   ]
  },
  {
   "cell_type": "code",
   "execution_count": 231,
   "id": "98a10e2c",
   "metadata": {},
   "outputs": [
    {
     "data": {
      "text/plain": [
       "{'No_First_dragon_and_less_dragon_kills': 6805,\n",
       " 'No_First_dragon_and_more_or_equal_dragon_kills': 9016,\n",
       " 'First_dragon_and_less_dragon_kills': 1206,\n",
       " 'First_dragon_and_more_or_equal_dragon_kills': 32463}"
      ]
     },
     "execution_count": 231,
     "metadata": {},
     "output_type": "execute_result"
    }
   ],
   "source": [
    "getDragonKillsToVictoriesDict()"
   ]
  },
  {
   "cell_type": "markdown",
   "id": "a0c17614",
   "metadata": {},
   "source": [
    "# az adatok alapján a First dragon egyedül nem számít túl sokat, viszont a first dragon és a több sárkány ölése együtt nagy eséllyel győzelmet is jelent"
   ]
  },
  {
   "cell_type": "code",
   "execution_count": 232,
   "id": "78928ecc",
   "metadata": {
    "scrolled": false
   },
   "outputs": [
    {
     "data": {
      "text/plain": [
       "([<matplotlib.patches.Wedge at 0x2433a3f6dd0>,\n",
       "  <matplotlib.patches.Wedge at 0x2433a3f5660>,\n",
       "  <matplotlib.patches.Wedge at 0x2433a3f44c0>,\n",
       "  <matplotlib.patches.Wedge at 0x2433a3f6fe0>],\n",
       " [Text(0.9989538434333078, 0.4605336238428443, 'No_First_dragon_and_less_dragon_kills'),\n",
       "  Text(0.14751824371957736, 1.0900634696061928, 'No_First_dragon_and_more_or_equal_dragon_kills'),\n",
       "  Text(-0.5411880461420923, 0.9576614739629578, 'First_dragon_and_less_dragon_kills'),\n",
       "  Text(-0.5176239559964722, -0.9706005564487188, 'First_dragon_and_more_or_equal_dragon_kills')])"
      ]
     },
     "execution_count": 232,
     "metadata": {},
     "output_type": "execute_result"
    },
    {
     "data": {
      "image/png": "[encoded data removed]",
      "text/plain": [
       "<Figure size 1500x300 with 1 Axes>"
      ]
     },
     "metadata": {},
     "output_type": "display_data"
    }
   ],
   "source": [
    "plt.pie(getDragonKillsToVictoriesDict().values(), labels=getDragonKillsToVictoriesDict().keys())"
   ]
  },
  {
   "cell_type": "markdown",
   "id": "3613276e",
   "metadata": {},
   "source": [
    "# what are the most used summoner spells?"
   ]
  },
  {
   "cell_type": "code",
   "execution_count": 234,
   "id": "8b23d7f6",
   "metadata": {},
   "outputs": [],
   "source": [
    "def getMostUsedSummonerSpells():\n",
    "    summonnerSpellPickCountDict = {}\n",
    "    summonerSpellColumns = ['t1_champ1_sum1', 't1_champ1_sum2', 't1_champ2_sum1', 't1_champ2_sum2', 't1_champ3_sum1', 't1_champ3_sum2', 't1_champ4_sum1', 't1_champ4_sum2', 't1_champ5_sum1', 't1_champ5_sum2', 't2_champ1_sum1', 't2_champ1_sum2', 't2_champ2_sum1', 't2_champ2_sum2', 't2_champ3_sum1', 't2_champ3_sum2', 't2_champ4_sum1', 't2_champ4_sum2', 't2_champ5_sum1', 't2_champ5_sum2']\n",
    "    summonerSpellsProjectedDF = gamesDW[summonerSpellColumns]\n",
    "    for index, row in summonerSpellsProjectedDF.iterrows():\n",
    "        for spellColumn in summonerSpellColumns:\n",
    "            if row[spellColumn] in summonnerSpellPickCountDict:\n",
    "                summonnerSpellPickCountDict[row[spellColumn]] = summonnerSpellPickCountDict[row[spellColumn]] + 1\n",
    "            else:\n",
    "                summonnerSpellPickCountDict[row[spellColumn]] = 1\n",
    "    return summonnerSpellPickCountDict\n",
    "\n",
    "mostUsedSummonerSpells = getMostUsedSummonerSpells()"
   ]
  },
  {
   "cell_type": "code",
   "execution_count": 235,
   "id": "08adfcd3",
   "metadata": {},
   "outputs": [
    {
     "data": {
      "text/plain": [
       "([<matplotlib.patches.Wedge at 0x2433a3e6890>,\n",
       "  <matplotlib.patches.Wedge at 0x2433b29d450>,\n",
       "  <matplotlib.patches.Wedge at 0x2433b29d8d0>,\n",
       "  <matplotlib.patches.Wedge at 0x2433b29dd50>,\n",
       "  <matplotlib.patches.Wedge at 0x2433b29e1d0>,\n",
       "  <matplotlib.patches.Wedge at 0x2433b29e650>,\n",
       "  <matplotlib.patches.Wedge at 0x2433b29ead0>,\n",
       "  <matplotlib.patches.Wedge at 0x2433a3e6920>,\n",
       "  <matplotlib.patches.Wedge at 0x2433b29f3a0>],\n",
       " [Text(1.0393034166104365, 0.3603448462540762, 'Teleport'),\n",
       "  Text(-0.6521516863868916, 0.885831912917306, 'Flash'),\n",
       "  Text(-0.7178951952727459, -0.833442552671932, 'Exhaust'),\n",
       "  Text(-0.13543250231581205, -1.0916309070910726, 'Heal'),\n",
       "  Text(0.5471223381471867, -0.9542835779265803, 'Smite'),\n",
       "  Text(0.8468518318456542, -0.7020270471282856, 'Ghost'),\n",
       "  Text(1.0218249594688877, -0.4072760147693526, 'Ignite'),\n",
       "  Text(1.0944594483799146, -0.11026566034778555, 'Cleanse'),\n",
       "  Text(1.0988668489277376, -0.049916413409064844, 'Barrier')])"
      ]
     },
     "execution_count": 235,
     "metadata": {},
     "output_type": "execute_result"
    },
    {
     "data": {
      "image/png": "[encoded data removed]",
      "text/plain": [
       "<Figure size 1500x300 with 1 Axes>"
      ]
     },
     "metadata": {},
     "output_type": "display_data"
    }
   ],
   "source": [
    "plt.pie(mostUsedSummonerSpells.values(), labels=mostUsedSummonerSpells.keys())"
   ]
  }
 ],
 "metadata": {
  "kernelspec": {
   "display_name": "Python 3 (ipykernel)",
   "language": "python",
   "name": "python3"
  },
  "language_info": {
   "codemirror_mode": {
    "name": "ipython",
    "version": 3
   },
   "file_extension": ".py",
   "mimetype": "text/x-python",
   "name": "python",
   "nbconvert_exporter": "python",
   "pygments_lexer": "ipython3",
   "version": "3.10.7"
  }
 },
 "nbformat": 4,
 "nbformat_minor": 5
}
